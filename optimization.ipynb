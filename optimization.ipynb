{
 "cells": [
  {
   "cell_type": "markdown",
   "metadata": {},
   "source": [
    "# Создание оптимального портфеля"
   ]
  },
  {
   "cell_type": "code",
   "execution_count": 1,
   "metadata": {},
   "outputs": [],
   "source": [
    "import numpy as np\n",
    "import pandas as pd \n",
    "import matplotlib.pyplot as plt\n",
    "import plotly\n",
    "import cufflinks\n",
    "import gurobipy as gp\n",
    "from gurobipy import GRB\n",
    "from calculator import Calculator"
   ]
  },
  {
   "cell_type": "markdown",
   "metadata": {},
   "source": [
    "### Загрузка данных и создание матрицы доходностей"
   ]
  },
  {
   "cell_type": "code",
   "execution_count": 2,
   "metadata": {},
   "outputs": [],
   "source": [
    "data = pd.read_csv('results.csv')  # полные данные (включая прогноз)\n",
    "data = data.drop('Unnamed: 0', axis = 1)\n",
    "data = data.set_index('ds')\n",
    "data = data[986:]  # оставляем только прогноз, чтобы строить оптимальный портфель на будущее "
   ]
  },
  {
   "cell_type": "code",
   "execution_count": 3,
   "metadata": {
    "scrolled": false
   },
   "outputs": [],
   "source": [
    "DJI_tickers = ['MMM',\n",
    "               'AXP', 'AAPL', 'BA', 'CAT', 'CVX',\n",
    "               'CSCO', 'KO', 'DOW', 'XOM', 'GS',\n",
    "               'HD', 'IBM', 'INTC', 'JNJ', 'JPM',\n",
    "               'MCD', 'MRK', 'MSFT', 'NKE', 'PFE',\n",
    "               'PG', 'TRV', 'UNH', 'RTX', 'VZ',\n",
    "               'V', 'WMT', 'WBA', 'DIS']\n",
    "\n",
    "df = pd.DataFrame()\n",
    "\n",
    "# получаем матрицу доходностей\n",
    "for i in DJI_tickers: \n",
    "    dr = Calculator(data[i]).expected_asset_profit()\n",
    "    df[f'{i}'] = dr"
   ]
  },
  {
   "cell_type": "code",
   "execution_count": 4,
   "metadata": {},
   "outputs": [
    {
     "data": {
      "text/html": [
       "<div>\n",
       "<style scoped>\n",
       "    .dataframe tbody tr th:only-of-type {\n",
       "        vertical-align: middle;\n",
       "    }\n",
       "\n",
       "    .dataframe tbody tr th {\n",
       "        vertical-align: top;\n",
       "    }\n",
       "\n",
       "    .dataframe thead th {\n",
       "        text-align: right;\n",
       "    }\n",
       "</style>\n",
       "<table border=\"1\" class=\"dataframe\">\n",
       "  <thead>\n",
       "    <tr style=\"text-align: right;\">\n",
       "      <th></th>\n",
       "      <th>MMM</th>\n",
       "      <th>AXP</th>\n",
       "      <th>AAPL</th>\n",
       "      <th>BA</th>\n",
       "      <th>CAT</th>\n",
       "      <th>CVX</th>\n",
       "      <th>CSCO</th>\n",
       "      <th>KO</th>\n",
       "      <th>DOW</th>\n",
       "      <th>XOM</th>\n",
       "      <th>...</th>\n",
       "      <th>PFE</th>\n",
       "      <th>PG</th>\n",
       "      <th>TRV</th>\n",
       "      <th>UNH</th>\n",
       "      <th>RTX</th>\n",
       "      <th>VZ</th>\n",
       "      <th>V</th>\n",
       "      <th>WMT</th>\n",
       "      <th>WBA</th>\n",
       "      <th>DIS</th>\n",
       "    </tr>\n",
       "  </thead>\n",
       "  <tbody>\n",
       "    <tr>\n",
       "      <th>0</th>\n",
       "      <td>-0.001154</td>\n",
       "      <td>-0.006546</td>\n",
       "      <td>0.006605</td>\n",
       "      <td>-0.015280</td>\n",
       "      <td>0.000647</td>\n",
       "      <td>-0.009423</td>\n",
       "      <td>-0.003508</td>\n",
       "      <td>-0.001300</td>\n",
       "      <td>-0.002374</td>\n",
       "      <td>-0.012941</td>\n",
       "      <td>...</td>\n",
       "      <td>-0.000517</td>\n",
       "      <td>0.000983</td>\n",
       "      <td>-0.003263</td>\n",
       "      <td>-0.000382</td>\n",
       "      <td>-0.028352</td>\n",
       "      <td>-0.001936</td>\n",
       "      <td>-0.000356</td>\n",
       "      <td>-0.002447</td>\n",
       "      <td>-0.009777</td>\n",
       "      <td>-0.003169</td>\n",
       "    </tr>\n",
       "    <tr>\n",
       "      <th>1</th>\n",
       "      <td>-0.001551</td>\n",
       "      <td>-0.003499</td>\n",
       "      <td>0.001016</td>\n",
       "      <td>-0.009718</td>\n",
       "      <td>0.001459</td>\n",
       "      <td>-0.004232</td>\n",
       "      <td>-0.002920</td>\n",
       "      <td>-0.001739</td>\n",
       "      <td>0.000046</td>\n",
       "      <td>-0.005546</td>\n",
       "      <td>...</td>\n",
       "      <td>-0.001677</td>\n",
       "      <td>0.000866</td>\n",
       "      <td>-0.001665</td>\n",
       "      <td>-0.000168</td>\n",
       "      <td>-0.013927</td>\n",
       "      <td>0.000547</td>\n",
       "      <td>-0.000665</td>\n",
       "      <td>-0.000696</td>\n",
       "      <td>-0.009635</td>\n",
       "      <td>-0.002394</td>\n",
       "    </tr>\n",
       "    <tr>\n",
       "      <th>2</th>\n",
       "      <td>0.000616</td>\n",
       "      <td>-0.002916</td>\n",
       "      <td>-0.002200</td>\n",
       "      <td>-0.008868</td>\n",
       "      <td>0.002579</td>\n",
       "      <td>-0.002755</td>\n",
       "      <td>-0.000499</td>\n",
       "      <td>-0.000017</td>\n",
       "      <td>0.000731</td>\n",
       "      <td>-0.007652</td>\n",
       "      <td>...</td>\n",
       "      <td>0.002948</td>\n",
       "      <td>0.002390</td>\n",
       "      <td>0.000588</td>\n",
       "      <td>0.000003</td>\n",
       "      <td>-0.014991</td>\n",
       "      <td>0.001874</td>\n",
       "      <td>-0.000430</td>\n",
       "      <td>-0.000843</td>\n",
       "      <td>-0.005479</td>\n",
       "      <td>-0.000757</td>\n",
       "    </tr>\n",
       "    <tr>\n",
       "      <th>3</th>\n",
       "      <td>-0.001729</td>\n",
       "      <td>-0.011439</td>\n",
       "      <td>-0.006461</td>\n",
       "      <td>-0.028647</td>\n",
       "      <td>0.005399</td>\n",
       "      <td>-0.005764</td>\n",
       "      <td>-0.004024</td>\n",
       "      <td>-0.001738</td>\n",
       "      <td>0.006410</td>\n",
       "      <td>-0.015016</td>\n",
       "      <td>...</td>\n",
       "      <td>-0.002610</td>\n",
       "      <td>0.000984</td>\n",
       "      <td>-0.003496</td>\n",
       "      <td>-0.005223</td>\n",
       "      <td>-0.052362</td>\n",
       "      <td>-0.002603</td>\n",
       "      <td>-0.003132</td>\n",
       "      <td>-0.002785</td>\n",
       "      <td>-0.015260</td>\n",
       "      <td>-0.003753</td>\n",
       "    </tr>\n",
       "    <tr>\n",
       "      <th>4</th>\n",
       "      <td>-0.000637</td>\n",
       "      <td>-0.001749</td>\n",
       "      <td>0.001064</td>\n",
       "      <td>-0.005150</td>\n",
       "      <td>0.003363</td>\n",
       "      <td>0.000570</td>\n",
       "      <td>0.001581</td>\n",
       "      <td>0.001250</td>\n",
       "      <td>0.006444</td>\n",
       "      <td>-0.004941</td>\n",
       "      <td>...</td>\n",
       "      <td>-0.001687</td>\n",
       "      <td>0.001561</td>\n",
       "      <td>-0.000981</td>\n",
       "      <td>0.001218</td>\n",
       "      <td>-0.008256</td>\n",
       "      <td>0.000551</td>\n",
       "      <td>0.000816</td>\n",
       "      <td>0.001808</td>\n",
       "      <td>-0.004209</td>\n",
       "      <td>0.000289</td>\n",
       "    </tr>\n",
       "  </tbody>\n",
       "</table>\n",
       "<p>5 rows × 30 columns</p>\n",
       "</div>"
      ],
      "text/plain": [
       "        MMM       AXP      AAPL        BA       CAT       CVX      CSCO  \\\n",
       "0 -0.001154 -0.006546  0.006605 -0.015280  0.000647 -0.009423 -0.003508   \n",
       "1 -0.001551 -0.003499  0.001016 -0.009718  0.001459 -0.004232 -0.002920   \n",
       "2  0.000616 -0.002916 -0.002200 -0.008868  0.002579 -0.002755 -0.000499   \n",
       "3 -0.001729 -0.011439 -0.006461 -0.028647  0.005399 -0.005764 -0.004024   \n",
       "4 -0.000637 -0.001749  0.001064 -0.005150  0.003363  0.000570  0.001581   \n",
       "\n",
       "         KO       DOW       XOM  ...       PFE        PG       TRV       UNH  \\\n",
       "0 -0.001300 -0.002374 -0.012941  ... -0.000517  0.000983 -0.003263 -0.000382   \n",
       "1 -0.001739  0.000046 -0.005546  ... -0.001677  0.000866 -0.001665 -0.000168   \n",
       "2 -0.000017  0.000731 -0.007652  ...  0.002948  0.002390  0.000588  0.000003   \n",
       "3 -0.001738  0.006410 -0.015016  ... -0.002610  0.000984 -0.003496 -0.005223   \n",
       "4  0.001250  0.006444 -0.004941  ... -0.001687  0.001561 -0.000981  0.001218   \n",
       "\n",
       "        RTX        VZ         V       WMT       WBA       DIS  \n",
       "0 -0.028352 -0.001936 -0.000356 -0.002447 -0.009777 -0.003169  \n",
       "1 -0.013927  0.000547 -0.000665 -0.000696 -0.009635 -0.002394  \n",
       "2 -0.014991  0.001874 -0.000430 -0.000843 -0.005479 -0.000757  \n",
       "3 -0.052362 -0.002603 -0.003132 -0.002785 -0.015260 -0.003753  \n",
       "4 -0.008256  0.000551  0.000816  0.001808 -0.004209  0.000289  \n",
       "\n",
       "[5 rows x 30 columns]"
      ]
     },
     "execution_count": 4,
     "metadata": {},
     "output_type": "execute_result"
    }
   ],
   "source": [
    "df.head()"
   ]
  },
  {
   "cell_type": "markdown",
   "metadata": {},
   "source": [
    "### Построение оптимизационной модели с помощью инструментов Gurobi"
   ]
  },
  {
   "cell_type": "code",
   "execution_count": 6,
   "metadata": {},
   "outputs": [],
   "source": [
    "mod = gp.Model(\"Portfolio\")  # создаем оптимизационную модель"
   ]
  },
  {
   "cell_type": "code",
   "execution_count": 7,
   "metadata": {},
   "outputs": [],
   "source": [
    "vars = pd.Series(mod.addVars(data.columns, name=DJI_tickers), index=data.columns)  # добавляем 30 переменных"
   ]
  },
  {
   "cell_type": "code",
   "execution_count": 8,
   "metadata": {},
   "outputs": [],
   "source": [
    "portfolioRisk = Calculator(df).portfolio_risk(vars)  # рассчитываем риск портфеля"
   ]
  },
  {
   "cell_type": "code",
   "execution_count": 9,
   "metadata": {},
   "outputs": [
    {
     "data": {
      "text/plain": [
       "<gurobi.Constr *Awaiting Model Update*>"
      ]
     },
     "execution_count": 9,
     "metadata": {},
     "output_type": "execute_result"
    }
   ],
   "source": [
    "mod.addConstr(vars.sum() == 1, 'budget')  # добавляем ограничение"
   ]
  },
  {
   "cell_type": "code",
   "execution_count": 10,
   "metadata": {},
   "outputs": [],
   "source": [
    "# ставим задачу минимизации риска и решаем её\n",
    "\n",
    "mod.setParam('OutputFlag', 0)\n",
    "mod.setObjective(portfolioRisk, GRB.MINIMIZE)\n",
    "mod.optimize()"
   ]
  },
  {
   "cell_type": "markdown",
   "metadata": {},
   "source": [
    "### Вывод результатов"
   ]
  },
  {
   "cell_type": "code",
   "execution_count": 11,
   "metadata": {},
   "outputs": [
    {
     "name": "stdout",
     "output_type": "stream",
     "text": [
      "Minimum risk portfolio: \n",
      "MMM 5.6182716547055304e-05\n",
      "AXP 2.910139877631223e-05\n",
      "AAPL 8.161583691075554e-06\n",
      "BA 5.570806757087231e-06\n",
      "CAT 0.07162997933449342\n",
      "CVX 2.0714436416929903e-05\n",
      "CSCO 1.2791299337435949e-05\n",
      "KO 4.388277573734965e-05\n",
      "DOW 1.201515038387751e-05\n",
      "XOM 1.0528908952086468e-05\n",
      "GS 2.3876489822332475e-05\n",
      "HD 4.040534294288636e-05\n",
      "IBM 2.5983305393889415e-05\n",
      "INTC 2.3080076390897815e-05\n",
      "JNJ 2.0756927069752782e-05\n",
      "JPM 0.035222852943743325\n",
      "MCD 3.866547648211571e-05\n",
      "MRK 0.016132834686702277\n",
      "MSFT 0.8097495324589286\n",
      "NKE 0.0002788675049979015\n",
      "PFE 0.023864932961270215\n",
      "PG 5.769381243315736e-05\n",
      "TRV 0.0003434932505729316\n",
      "UNH 2.589068879384508e-05\n",
      "RTX 5.864590211312071e-06\n",
      "VZ 3.903217808616809e-05\n",
      "V 2.3185168154569915e-05\n",
      "WMT 5.5842529829677376e-05\n",
      "WBA 8.633210164049328e-06\n",
      "DIS 0.042189647986924754\n",
      "\n",
      "\n",
      "Risk:  0.0012542544057195892\n",
      "Return:  0.016742313923185585\n"
     ]
    }
   ],
   "source": [
    "print('Minimum risk portfolio: ')\n",
    "for i in vars:\n",
    "    print(i.varname, i.x)\n",
    "print('\\n')\n",
    "print('Risk: ', np.sqrt(portfolioRisk.getValue()))\n",
    "print('Return: ', df.mean().dot(vars).getValue() * 22)"
   ]
  },
  {
   "cell_type": "markdown",
   "metadata": {},
   "source": [
    "### Вывод\n",
    "\n",
    "Как можно заметить, риск построенного портфеля составляет 0.1%, а доходность около 1.7%. Если мы распределим свои 100 долларов по акциям компаний, входящих в индекс Доу-Джонса следующим образом, то прогнозируется, что к концу месяца мы получим 101.7 долларов с вероятностью почти 100%.\n",
    "\n",
    "- Micrisoft - 81%\n",
    "- Caterpillar Inc. - 7.1%\n",
    "- Walt Disney Co. - 4.2%\t\n",
    "- JPMorgan Chase & Co. - 3.5%\n",
    "- Pfizer Inc. - 2.4%\n",
    "- Merck & Co. Inc. - 1.6%"
   ]
  }
 ],
 "metadata": {
  "kernelspec": {
   "display_name": "Python 3",
   "language": "python",
   "name": "python3"
  },
  "language_info": {
   "codemirror_mode": {
    "name": "ipython",
    "version": 3
   },
   "file_extension": ".py",
   "mimetype": "text/x-python",
   "name": "python",
   "nbconvert_exporter": "python",
   "pygments_lexer": "ipython3",
   "version": "3.7.6"
  }
 },
 "nbformat": 4,
 "nbformat_minor": 4
}
